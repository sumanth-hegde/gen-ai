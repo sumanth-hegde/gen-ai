{
 "cells": [
  {
   "cell_type": "markdown",
   "id": "bbf79dc1",
   "metadata": {},
   "source": [
    "Classes and Obejcts"
   ]
  },
  {
   "cell_type": "code",
   "execution_count": 2,
   "id": "b77bc680",
   "metadata": {},
   "outputs": [
    {
     "name": "stdout",
     "output_type": "stream",
     "text": [
      "<class '__main__.Car'>\n",
      "<__main__.Car object at 0x000001AB1F78A7B0>\n"
     ]
    }
   ],
   "source": [
    "class Car:\n",
    "    pass\n",
    "\n",
    "audi=Car()\n",
    "bentley=Car()\n",
    "\n",
    "\n",
    "print(type(audi))\n",
    "print(audi)"
   ]
  },
  {
   "cell_type": "code",
   "execution_count": 3,
   "id": "0076d405",
   "metadata": {},
   "outputs": [
    {
     "name": "stdout",
     "output_type": "stream",
     "text": [
      "4\n"
     ]
    }
   ],
   "source": [
    "audi.windows=4\n",
    "print(audi.windows)"
   ]
  },
  {
   "cell_type": "markdown",
   "id": "da8478cb",
   "metadata": {},
   "source": [
    "Instance variable and methods"
   ]
  },
  {
   "cell_type": "code",
   "execution_count": 5,
   "id": "b24d44c6",
   "metadata": {},
   "outputs": [],
   "source": [
    "class Dog:\n",
    "    ## constructor\n",
    "    def __init__(self, name, age):\n",
    "        self.name = name\n",
    "        self.age = age\n",
    "\n",
    "dog1 = Dog(\"test1\", 2)"
   ]
  },
  {
   "cell_type": "code",
   "execution_count": 8,
   "id": "e67a1d38",
   "metadata": {},
   "outputs": [
    {
     "data": {
      "text/plain": [
       "'test1'"
      ]
     },
     "execution_count": 8,
     "metadata": {},
     "output_type": "execute_result"
    }
   ],
   "source": [
    "dog1\n",
    "dog1.name"
   ]
  },
  {
   "cell_type": "code",
   "execution_count": 10,
   "id": "3cb5c14a",
   "metadata": {},
   "outputs": [
    {
     "data": {
      "text/plain": [
       "'Buddy'"
      ]
     },
     "execution_count": 10,
     "metadata": {},
     "output_type": "execute_result"
    }
   ],
   "source": [
    "dog2 = Dog(\"Buddy\", 4)\n",
    "dog2.name"
   ]
  },
  {
   "cell_type": "markdown",
   "id": "170b73d3",
   "metadata": {},
   "source": [
    "Class with instance method"
   ]
  },
  {
   "cell_type": "code",
   "execution_count": 12,
   "id": "f30e4a70",
   "metadata": {},
   "outputs": [
    {
     "name": "stdout",
     "output_type": "stream",
     "text": [
      "Buddy says hello and his age is 1\n",
      "Sus boi says hello and his age is 3\n"
     ]
    }
   ],
   "source": [
    "class Dog:\n",
    "    def __init__(self, name, age):\n",
    "        self.name = name\n",
    "        self.age = age\n",
    "    \n",
    "    def bark(self):\n",
    "        print(f\"{self.name} says hello and his age is {self.age}\")\n",
    "\n",
    "\n",
    "dog1 = Dog(\"Buddy\", 1)\n",
    "\n",
    "dog1.bark()\n",
    "dog2 = Dog(\"Sus boi\", 3)\n",
    "dog2.bark()"
   ]
  },
  {
   "cell_type": "markdown",
   "id": "c0eeb914",
   "metadata": {},
   "source": [
    "Modeling a bank account"
   ]
  },
  {
   "cell_type": "code",
   "execution_count": 26,
   "id": "6b8bd080",
   "metadata": {},
   "outputs": [],
   "source": [
    "class BankAccount:\n",
    "    def __init__(self, owner, balance=0):\n",
    "        self.owner = owner\n",
    "        self.balance = balance\n",
    "\n",
    "    def balance_details(self):\n",
    "        print(f\"{self.owner} has balance: {self.balance}\")\n",
    "    \n",
    "    def deposit(self, amount):\n",
    "        self.balance += amount\n",
    "        print(f\"{amount} is deposited!. New balance is {self.balance}\")\n",
    "    \n",
    "    def withdraw(self, amount):\n",
    "        if amount > self.balance:\n",
    "            print(\"Insufficient funds\")\n",
    "        else:\n",
    "            self.balance -= amount\n",
    "            print(f\"{amount} is withdrawn. New balance is {self.balance}\")\n",
    "\n",
    "emp1 = BankAccount(\"bank_user1\", 1000)"
   ]
  },
  {
   "cell_type": "code",
   "execution_count": 28,
   "id": "74947cd2",
   "metadata": {},
   "outputs": [
    {
     "name": "stdout",
     "output_type": "stream",
     "text": [
      "bank_user1 has balance: 1000\n",
      "None\n",
      "1000\n"
     ]
    }
   ],
   "source": [
    "print(emp1.balance_details())\n",
    "print(emp1.balance)"
   ]
  },
  {
   "cell_type": "code",
   "execution_count": 29,
   "id": "e18e102e",
   "metadata": {},
   "outputs": [
    {
     "name": "stdout",
     "output_type": "stream",
     "text": [
      "100 is deposited!. New balance is 1100\n"
     ]
    }
   ],
   "source": [
    "emp1.deposit(100)"
   ]
  },
  {
   "cell_type": "code",
   "execution_count": 30,
   "id": "26069056",
   "metadata": {},
   "outputs": [
    {
     "name": "stdout",
     "output_type": "stream",
     "text": [
      "500 is withdrawn. New balance is 600\n"
     ]
    }
   ],
   "source": [
    "emp1.withdraw(500)"
   ]
  },
  {
   "cell_type": "code",
   "execution_count": 31,
   "id": "b6e46e2b",
   "metadata": {},
   "outputs": [
    {
     "data": {
      "text/plain": [
       "600"
      ]
     },
     "execution_count": 31,
     "metadata": {},
     "output_type": "execute_result"
    }
   ],
   "source": [
    "emp1.balance"
   ]
  },
  {
   "cell_type": "code",
   "execution_count": 32,
   "id": "5346a5c7",
   "metadata": {},
   "outputs": [
    {
     "name": "stdout",
     "output_type": "stream",
     "text": [
      "Insufficient funds\n"
     ]
    }
   ],
   "source": [
    "emp1.withdraw(1000)"
   ]
  },
  {
   "cell_type": "code",
   "execution_count": 34,
   "id": "0da134f4",
   "metadata": {},
   "outputs": [
    {
     "name": "stdout",
     "output_type": "stream",
     "text": [
      "10000 is deposited!. New balance is 11600\n"
     ]
    }
   ],
   "source": [
    "emp1.deposit(10000)"
   ]
  },
  {
   "cell_type": "code",
   "execution_count": null,
   "id": "c0b6bca8",
   "metadata": {},
   "outputs": [],
   "source": []
  },
  {
   "cell_type": "code",
   "execution_count": null,
   "id": "16e02d7a",
   "metadata": {},
   "outputs": [],
   "source": []
  },
  {
   "cell_type": "code",
   "execution_count": null,
   "id": "0e24b9b5",
   "metadata": {},
   "outputs": [],
   "source": []
  },
  {
   "cell_type": "code",
   "execution_count": null,
   "id": "32a3283d",
   "metadata": {},
   "outputs": [],
   "source": []
  },
  {
   "cell_type": "code",
   "execution_count": null,
   "id": "9ce73285",
   "metadata": {},
   "outputs": [],
   "source": []
  },
  {
   "cell_type": "code",
   "execution_count": null,
   "id": "35102feb",
   "metadata": {},
   "outputs": [],
   "source": []
  },
  {
   "cell_type": "code",
   "execution_count": null,
   "id": "8b691272",
   "metadata": {},
   "outputs": [],
   "source": []
  },
  {
   "cell_type": "code",
   "execution_count": null,
   "id": "48dc76f0",
   "metadata": {},
   "outputs": [],
   "source": []
  },
  {
   "cell_type": "code",
   "execution_count": null,
   "id": "74378151",
   "metadata": {},
   "outputs": [],
   "source": []
  },
  {
   "cell_type": "code",
   "execution_count": null,
   "id": "8135fa62",
   "metadata": {},
   "outputs": [],
   "source": []
  },
  {
   "cell_type": "code",
   "execution_count": null,
   "id": "19528240",
   "metadata": {},
   "outputs": [],
   "source": []
  },
  {
   "cell_type": "code",
   "execution_count": null,
   "id": "a8a411b3",
   "metadata": {},
   "outputs": [],
   "source": []
  }
 ],
 "metadata": {
  "kernelspec": {
   "display_name": "Python 3",
   "language": "python",
   "name": "python3"
  },
  "language_info": {
   "codemirror_mode": {
    "name": "ipython",
    "version": 3
   },
   "file_extension": ".py",
   "mimetype": "text/x-python",
   "name": "python",
   "nbconvert_exporter": "python",
   "pygments_lexer": "ipython3",
   "version": "3.13.1"
  }
 },
 "nbformat": 4,
 "nbformat_minor": 5
}
