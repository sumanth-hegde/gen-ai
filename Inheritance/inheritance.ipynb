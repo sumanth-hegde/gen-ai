{
 "cells": [
  {
   "cell_type": "markdown",
   "id": "4d85daa6",
   "metadata": {},
   "source": [
    "Inheritance"
   ]
  },
  {
   "cell_type": "markdown",
   "id": "7418973d",
   "metadata": {},
   "source": [
    "Single Inheritance"
   ]
  },
  {
   "cell_type": "code",
   "execution_count": 1,
   "id": "d9613b24",
   "metadata": {},
   "outputs": [],
   "source": [
    "class Car:\n",
    "    def __init__(self, windows, door, engine_type):\n",
    "        self.windows = windows\n",
    "        self.door = door\n",
    "        self.engine_type = engine_type\n",
    "    \n",
    "    def drive(self):\n",
    "        print(f\"The person will drive the {self.engine_type} with {self.door} doors and {self.windows} windows\")    "
   ]
  },
  {
   "cell_type": "code",
   "execution_count": 2,
   "id": "601eb50a",
   "metadata": {},
   "outputs": [],
   "source": [
    "car1 = Car(4, 2, \"Petrol\")"
   ]
  },
  {
   "cell_type": "code",
   "execution_count": 5,
   "id": "b8e47c36",
   "metadata": {},
   "outputs": [
    {
     "name": "stdout",
     "output_type": "stream",
     "text": [
      "The person will drive the Petrol with 2 doors and 4 windows\n"
     ]
    }
   ],
   "source": [
    "car1.drive()"
   ]
  },
  {
   "cell_type": "code",
   "execution_count": 10,
   "id": "9a95b69c",
   "metadata": {},
   "outputs": [],
   "source": [
    "class Tesla(Car):\n",
    "    def __init__(self, windows, door, engine_type, is_self_driving):\n",
    "        super().__init__(windows, door, engine_type)\n",
    "        self.is_self_driving = is_self_driving\n",
    "\n",
    "    def info(self):\n",
    "        if self.is_self_driving == True:\n",
    "            return f\"The person is driving a self driving car with {self.door} doors and {self.windows} windows\"\n",
    "        else:\n",
    "            return super().drive()"
   ]
  },
  {
   "cell_type": "code",
   "execution_count": 14,
   "id": "e4af5af4",
   "metadata": {},
   "outputs": [],
   "source": [
    "car3 = Tesla(4, 2, \"Petrol\", True)"
   ]
  },
  {
   "cell_type": "code",
   "execution_count": 16,
   "id": "4cc36158",
   "metadata": {},
   "outputs": [
    {
     "name": "stdout",
     "output_type": "stream",
     "text": [
      "The person is driving a self driving car with 2 doors and 4 windows\n"
     ]
    }
   ],
   "source": [
    "print(car3.info())"
   ]
  },
  {
   "cell_type": "code",
   "execution_count": 17,
   "id": "43a49cc9",
   "metadata": {},
   "outputs": [
    {
     "name": "stdout",
     "output_type": "stream",
     "text": [
      "The person will drive the Petrol with 2 doors and 4 windows\n",
      "None\n"
     ]
    }
   ],
   "source": [
    "car4 = Tesla(4, 2, \"Petrol\", False)\n",
    "print(car4.info())"
   ]
  },
  {
   "cell_type": "code",
   "execution_count": 18,
   "id": "517df27e",
   "metadata": {},
   "outputs": [
    {
     "name": "stdout",
     "output_type": "stream",
     "text": [
      "The person will drive the Petrol with 2 doors and 4 windows\n"
     ]
    }
   ],
   "source": [
    "car4.drive()"
   ]
  },
  {
   "cell_type": "markdown",
   "id": "49bfe9b8",
   "metadata": {},
   "source": [
    "Multiple Inheritance"
   ]
  },
  {
   "cell_type": "code",
   "execution_count": 23,
   "id": "d9b61afc",
   "metadata": {},
   "outputs": [],
   "source": [
    "## Base class 1\n",
    "class Animal:\n",
    "    def __init__(self, name):\n",
    "        self.name = name\n",
    "    \n",
    "    def speak(self):\n",
    "        return \"Subclasses must implement this method\"\n",
    "    \n",
    "## Base class 2\n",
    "\n",
    "class Pet:\n",
    "    def __init__(self, owner):\n",
    "        self.owner = owner\n",
    "\n",
    "## Derived class\n",
    "\n",
    "class Dog(Animal, Pet):\n",
    "    def __init__(self, name, owner):\n",
    "        Animal.__init__(self, name)\n",
    "        Pet.__init__(self, owner)\n",
    "\n",
    "    def speak(self):\n",
    "        return f\"{self.name} says hehe boi\"\n",
    "\n",
    "## Object\n",
    "\n",
    "dog = Dog(\"Buddy\", \"Test1\")"
   ]
  },
  {
   "cell_type": "code",
   "execution_count": 25,
   "id": "cbbf5a96",
   "metadata": {},
   "outputs": [
    {
     "name": "stdout",
     "output_type": "stream",
     "text": [
      "Buddy says hehe boi\n"
     ]
    }
   ],
   "source": [
    "print(dog.speak())"
   ]
  },
  {
   "cell_type": "code",
   "execution_count": 26,
   "id": "58e62047",
   "metadata": {},
   "outputs": [
    {
     "name": "stdout",
     "output_type": "stream",
     "text": [
      "Owner: Test1\n"
     ]
    }
   ],
   "source": [
    "print(f\"Owner: {dog.owner}\")"
   ]
  },
  {
   "cell_type": "code",
   "execution_count": null,
   "id": "f33c66f5",
   "metadata": {},
   "outputs": [],
   "source": []
  },
  {
   "cell_type": "code",
   "execution_count": null,
   "id": "f15e9a40",
   "metadata": {},
   "outputs": [],
   "source": []
  },
  {
   "cell_type": "code",
   "execution_count": null,
   "id": "3ae7fa36",
   "metadata": {},
   "outputs": [],
   "source": []
  },
  {
   "cell_type": "code",
   "execution_count": null,
   "id": "f4640fd8",
   "metadata": {},
   "outputs": [],
   "source": []
  },
  {
   "cell_type": "code",
   "execution_count": null,
   "id": "d278fb0b",
   "metadata": {},
   "outputs": [],
   "source": []
  }
 ],
 "metadata": {
  "kernelspec": {
   "display_name": "Python 3",
   "language": "python",
   "name": "python3"
  },
  "language_info": {
   "codemirror_mode": {
    "name": "ipython",
    "version": 3
   },
   "file_extension": ".py",
   "mimetype": "text/x-python",
   "name": "python",
   "nbconvert_exporter": "python",
   "pygments_lexer": "ipython3",
   "version": "3.13.1"
  }
 },
 "nbformat": 4,
 "nbformat_minor": 5
}
