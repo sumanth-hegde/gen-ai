{
 "cells": [
  {
   "cell_type": "markdown",
   "id": "1edf223d",
   "metadata": {},
   "source": [
    "The map() function"
   ]
  },
  {
   "cell_type": "code",
   "execution_count": 1,
   "id": "dc3be903",
   "metadata": {},
   "outputs": [
    {
     "name": "stdout",
     "output_type": "stream",
     "text": [
      "[5, 7, 9]\n"
     ]
    }
   ],
   "source": [
    "num1 = [1,2,3]\n",
    "num2 = [4,5,6]\n",
    "\n",
    "added_numbers = list(map(lambda x,y : x+y, num1, num2))\n",
    "print(added_numbers)"
   ]
  },
  {
   "cell_type": "code",
   "execution_count": 2,
   "id": "26a0a9da",
   "metadata": {},
   "outputs": [
    {
     "data": {
      "text/plain": [
       "[5, 7, 9]"
      ]
     },
     "execution_count": 2,
     "metadata": {},
     "output_type": "execute_result"
    }
   ],
   "source": [
    "def test(a, b):\n",
    "    return a+b\n",
    "\n",
    "list(map(test, num1, num2))"
   ]
  },
  {
   "cell_type": "markdown",
   "id": "709ee8ff",
   "metadata": {},
   "source": [
    "Filter function"
   ]
  },
  {
   "cell_type": "markdown",
   "id": "0960998f",
   "metadata": {},
   "source": [
    "filter(function_name, parameter) -> parameter should be an iterable"
   ]
  },
  {
   "cell_type": "code",
   "execution_count": 3,
   "id": "898d83b4",
   "metadata": {},
   "outputs": [],
   "source": [
    "def even(num):\n",
    "    if num%2==0:\n",
    "        return True"
   ]
  },
  {
   "cell_type": "code",
   "execution_count": 4,
   "id": "f38d7ab0",
   "metadata": {},
   "outputs": [],
   "source": [
    "lst = [1,2,3,4,5,6,7,8,9,10]\n",
    "test = list(filter(even, lst))"
   ]
  },
  {
   "cell_type": "code",
   "execution_count": 5,
   "id": "1eae38e4",
   "metadata": {},
   "outputs": [
    {
     "data": {
      "text/plain": [
       "[2, 4, 6, 8, 10]"
      ]
     },
     "execution_count": 5,
     "metadata": {},
     "output_type": "execute_result"
    }
   ],
   "source": [
    "test"
   ]
  },
  {
   "cell_type": "code",
   "execution_count": 6,
   "id": "70ce4c69",
   "metadata": {},
   "outputs": [
    {
     "data": {
      "text/plain": [
       "[6, 7, 8, 9, 10]"
      ]
     },
     "execution_count": 6,
     "metadata": {},
     "output_type": "execute_result"
    }
   ],
   "source": [
    "greater_than_five = list(filter(lambda x:x>5, lst))\n",
    "greater_than_five"
   ]
  },
  {
   "cell_type": "code",
   "execution_count": 7,
   "id": "aa4e31a7",
   "metadata": {},
   "outputs": [
    {
     "data": {
      "text/plain": [
       "[2, 4, 6, 8, 10]"
      ]
     },
     "execution_count": 7,
     "metadata": {},
     "output_type": "execute_result"
    }
   ],
   "source": [
    "even_check = list(filter(lambda num: num%2 == 0, lst))\n",
    "even_check"
   ]
  },
  {
   "cell_type": "code",
   "execution_count": 11,
   "id": "2d42a511",
   "metadata": {},
   "outputs": [
    {
     "name": "stdout",
     "output_type": "stream",
     "text": [
      "1\n",
      "1\n"
     ]
    }
   ],
   "source": [
    "import random\n",
    "print(random.randint(1,2))\n",
    "print(random.choice([\"1\", \"choice\"]))"
   ]
  },
  {
   "cell_type": "markdown",
   "id": "d6008511",
   "metadata": {},
   "source": [
    "Data serialiaztion"
   ]
  },
  {
   "cell_type": "code",
   "execution_count": 15,
   "id": "9536c8ef",
   "metadata": {},
   "outputs": [
    {
     "name": "stdout",
     "output_type": "stream",
     "text": [
      "{\"name\": \"Test1\", \"age\": 2}\n",
      "{'name': 'Test1', 'age': 2}\n"
     ]
    }
   ],
   "source": [
    "import json\n",
    "data = {\"name\":\"Test1\", \"age\": 2}\n",
    "\n",
    "json_str = json.dumps(data)\n",
    "print(json_str)\n",
    "\n",
    "parsed_data = json.loads(json_str)\n",
    "print(parsed_data)"
   ]
  },
  {
   "cell_type": "markdown",
   "id": "aab0d181",
   "metadata": {},
   "source": [
    "Working with csv files"
   ]
  },
  {
   "cell_type": "code",
   "execution_count": null,
   "id": "a714af30",
   "metadata": {},
   "outputs": [],
   "source": []
  },
  {
   "cell_type": "code",
   "execution_count": null,
   "id": "52e8fa1c",
   "metadata": {},
   "outputs": [],
   "source": []
  },
  {
   "cell_type": "code",
   "execution_count": null,
   "id": "5d989e78",
   "metadata": {},
   "outputs": [],
   "source": []
  },
  {
   "cell_type": "code",
   "execution_count": null,
   "id": "ae2e063e",
   "metadata": {},
   "outputs": [],
   "source": []
  },
  {
   "cell_type": "code",
   "execution_count": null,
   "id": "c648ec34",
   "metadata": {},
   "outputs": [],
   "source": []
  },
  {
   "cell_type": "code",
   "execution_count": null,
   "id": "b4322015",
   "metadata": {},
   "outputs": [],
   "source": []
  }
 ],
 "metadata": {
  "kernelspec": {
   "display_name": "Python 3",
   "language": "python",
   "name": "python3"
  },
  "language_info": {
   "codemirror_mode": {
    "name": "ipython",
    "version": 3
   },
   "file_extension": ".py",
   "mimetype": "text/x-python",
   "name": "python",
   "nbconvert_exporter": "python",
   "pygments_lexer": "ipython3",
   "version": "3.13.1"
  }
 },
 "nbformat": 4,
 "nbformat_minor": 5
}
